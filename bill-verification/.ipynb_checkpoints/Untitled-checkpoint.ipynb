{
 "cells": [
  {
   "cell_type": "code",
   "execution_count": 1,
   "metadata": {},
   "outputs": [],
   "source": [
    "import pandas as pd\n",
    "import numpy as np\n",
    "import calendar\n",
    "from dateutil.relativedelta import *\n",
    "from datetime import datetime, timedelta\n",
    "import time"
   ]
  },
  {
   "cell_type": "code",
   "execution_count": 2,
   "metadata": {},
   "outputs": [
    {
     "data": {
      "text/html": [
       "<div>\n",
       "<style scoped>\n",
       "    .dataframe tbody tr th:only-of-type {\n",
       "        vertical-align: middle;\n",
       "    }\n",
       "\n",
       "    .dataframe tbody tr th {\n",
       "        vertical-align: top;\n",
       "    }\n",
       "\n",
       "    .dataframe thead th {\n",
       "        text-align: right;\n",
       "    }\n",
       "</style>\n",
       "<table border=\"1\" class=\"dataframe\">\n",
       "  <thead>\n",
       "    <tr style=\"text-align: right;\">\n",
       "      <th></th>\n",
       "      <th>value</th>\n",
       "    </tr>\n",
       "    <tr>\n",
       "      <th>time</th>\n",
       "      <th></th>\n",
       "    </tr>\n",
       "  </thead>\n",
       "  <tbody>\n",
       "    <tr>\n",
       "      <td>2019-08-20 14:25:00</td>\n",
       "      <td>924.0</td>\n",
       "    </tr>\n",
       "    <tr>\n",
       "      <td>2019-08-20 14:30:00</td>\n",
       "      <td>732.0</td>\n",
       "    </tr>\n",
       "    <tr>\n",
       "      <td>2019-08-20 14:35:00</td>\n",
       "      <td>1128.0</td>\n",
       "    </tr>\n",
       "    <tr>\n",
       "      <td>2019-08-20 14:40:00</td>\n",
       "      <td>756.0</td>\n",
       "    </tr>\n",
       "    <tr>\n",
       "      <td>2019-08-20 14:45:00</td>\n",
       "      <td>912.0</td>\n",
       "    </tr>\n",
       "  </tbody>\n",
       "</table>\n",
       "</div>"
      ],
      "text/plain": [
       "                      value\n",
       "time                       \n",
       "2019-08-20 14:25:00   924.0\n",
       "2019-08-20 14:30:00   732.0\n",
       "2019-08-20 14:35:00  1128.0\n",
       "2019-08-20 14:40:00   756.0\n",
       "2019-08-20 14:45:00   912.0"
      ]
     },
     "execution_count": 2,
     "metadata": {},
     "output_type": "execute_result"
    }
   ],
   "source": [
    "df = pd.read_csv('power_usage.csv', parse_dates = True , index_col='time')\n",
    "df.head()"
   ]
  },
  {
   "cell_type": "code",
   "execution_count": 5,
   "metadata": {},
   "outputs": [
    {
     "data": {
      "text/html": [
       "<div>\n",
       "<style scoped>\n",
       "    .dataframe tbody tr th:only-of-type {\n",
       "        vertical-align: middle;\n",
       "    }\n",
       "\n",
       "    .dataframe tbody tr th {\n",
       "        vertical-align: top;\n",
       "    }\n",
       "\n",
       "    .dataframe thead th {\n",
       "        text-align: right;\n",
       "    }\n",
       "</style>\n",
       "<table border=\"1\" class=\"dataframe\">\n",
       "  <thead>\n",
       "    <tr style=\"text-align: right;\">\n",
       "      <th></th>\n",
       "      <th>value</th>\n",
       "    </tr>\n",
       "    <tr>\n",
       "      <th>time</th>\n",
       "      <th></th>\n",
       "    </tr>\n",
       "  </thead>\n",
       "  <tbody>\n",
       "    <tr>\n",
       "      <td>2020-06-25 00:00:00</td>\n",
       "      <td>417.6</td>\n",
       "    </tr>\n",
       "    <tr>\n",
       "      <td>2020-06-25 00:05:00</td>\n",
       "      <td>424.8</td>\n",
       "    </tr>\n",
       "    <tr>\n",
       "      <td>2020-06-25 00:10:00</td>\n",
       "      <td>432.0</td>\n",
       "    </tr>\n",
       "    <tr>\n",
       "      <td>2020-06-25 00:15:00</td>\n",
       "      <td>417.6</td>\n",
       "    </tr>\n",
       "    <tr>\n",
       "      <td>2020-06-25 00:20:00</td>\n",
       "      <td>417.6</td>\n",
       "    </tr>\n",
       "    <tr>\n",
       "      <td>...</td>\n",
       "      <td>...</td>\n",
       "    </tr>\n",
       "    <tr>\n",
       "      <td>2020-06-30 23:35:00</td>\n",
       "      <td>0.0</td>\n",
       "    </tr>\n",
       "    <tr>\n",
       "      <td>2020-06-30 23:40:00</td>\n",
       "      <td>0.0</td>\n",
       "    </tr>\n",
       "    <tr>\n",
       "      <td>2020-06-30 23:45:00</td>\n",
       "      <td>0.0</td>\n",
       "    </tr>\n",
       "    <tr>\n",
       "      <td>2020-06-30 23:50:00</td>\n",
       "      <td>0.0</td>\n",
       "    </tr>\n",
       "    <tr>\n",
       "      <td>2020-06-30 23:55:00</td>\n",
       "      <td>0.0</td>\n",
       "    </tr>\n",
       "  </tbody>\n",
       "</table>\n",
       "<p>1728 rows × 1 columns</p>\n",
       "</div>"
      ],
      "text/plain": [
       "                     value\n",
       "time                      \n",
       "2020-06-25 00:00:00  417.6\n",
       "2020-06-25 00:05:00  424.8\n",
       "2020-06-25 00:10:00  432.0\n",
       "2020-06-25 00:15:00  417.6\n",
       "2020-06-25 00:20:00  417.6\n",
       "...                    ...\n",
       "2020-06-30 23:35:00    0.0\n",
       "2020-06-30 23:40:00    0.0\n",
       "2020-06-30 23:45:00    0.0\n",
       "2020-06-30 23:50:00    0.0\n",
       "2020-06-30 23:55:00    0.0\n",
       "\n",
       "[1728 rows x 1 columns]"
      ]
     },
     "execution_count": 5,
     "metadata": {},
     "output_type": "execute_result"
    }
   ],
   "source": [
    "start='2020-06-25'\n",
    "end = '2020-06-30'\n",
    "df[start:end]"
   ]
  },
  {
   "cell_type": "code",
   "execution_count": 29,
   "metadata": {},
   "outputs": [
    {
     "data": {
      "text/plain": [
       "False"
      ]
     },
     "execution_count": 29,
     "metadata": {},
     "output_type": "execute_result"
    }
   ],
   "source": [
    "0 in df['2020-09-01 00:00:00' : '2020-09-30 23:55:00'].values\n",
    "\n"
   ]
  },
  {
   "cell_type": "code",
   "execution_count": 5,
   "metadata": {},
   "outputs": [
    {
     "data": {
      "text/plain": [
       "True"
      ]
     },
     "execution_count": 5,
     "metadata": {},
     "output_type": "execute_result"
    }
   ],
   "source": [
    "df['2020-12-01 00:00:00' : '2020-12-31 23:55:00'].index.is_monotonic_increasing"
   ]
  },
  {
   "cell_type": "code",
   "execution_count": 3,
   "metadata": {},
   "outputs": [],
   "source": [
    "start='2019-09-17'\n",
    "end = '2019-10-16'"
   ]
  },
  {
   "cell_type": "code",
   "execution_count": 4,
   "metadata": {},
   "outputs": [],
   "source": [
    "pd.options.mode.chained_assignment = None\n",
    "for ind, val in df[start:end].iterrows():\n",
    "    df[start:end].loc[ind]= val.apply(lambda val : df.loc[ind+timedelta(weeks=-2)][0] if val == 0 else val)\n"
   ]
  },
  {
   "cell_type": "code",
   "execution_count": 7,
   "metadata": {},
   "outputs": [
    {
     "data": {
      "text/html": [
       "<div>\n",
       "<style scoped>\n",
       "    .dataframe tbody tr th:only-of-type {\n",
       "        vertical-align: middle;\n",
       "    }\n",
       "\n",
       "    .dataframe tbody tr th {\n",
       "        vertical-align: top;\n",
       "    }\n",
       "\n",
       "    .dataframe thead th {\n",
       "        text-align: right;\n",
       "    }\n",
       "</style>\n",
       "<table border=\"1\" class=\"dataframe\">\n",
       "  <thead>\n",
       "    <tr style=\"text-align: right;\">\n",
       "      <th></th>\n",
       "      <th>value</th>\n",
       "    </tr>\n",
       "    <tr>\n",
       "      <th>time</th>\n",
       "      <th></th>\n",
       "    </tr>\n",
       "  </thead>\n",
       "  <tbody>\n",
       "    <tr>\n",
       "      <td>2020-06-25 00:00:00</td>\n",
       "      <td>417.6</td>\n",
       "    </tr>\n",
       "    <tr>\n",
       "      <td>2020-06-25 00:05:00</td>\n",
       "      <td>424.8</td>\n",
       "    </tr>\n",
       "    <tr>\n",
       "      <td>2020-06-25 00:10:00</td>\n",
       "      <td>432.0</td>\n",
       "    </tr>\n",
       "    <tr>\n",
       "      <td>2020-06-25 00:15:00</td>\n",
       "      <td>417.6</td>\n",
       "    </tr>\n",
       "    <tr>\n",
       "      <td>2020-06-25 00:20:00</td>\n",
       "      <td>417.6</td>\n",
       "    </tr>\n",
       "    <tr>\n",
       "      <td>...</td>\n",
       "      <td>...</td>\n",
       "    </tr>\n",
       "    <tr>\n",
       "      <td>2020-06-30 23:35:00</td>\n",
       "      <td>417.6</td>\n",
       "    </tr>\n",
       "    <tr>\n",
       "      <td>2020-06-30 23:40:00</td>\n",
       "      <td>424.8</td>\n",
       "    </tr>\n",
       "    <tr>\n",
       "      <td>2020-06-30 23:45:00</td>\n",
       "      <td>417.6</td>\n",
       "    </tr>\n",
       "    <tr>\n",
       "      <td>2020-06-30 23:50:00</td>\n",
       "      <td>424.8</td>\n",
       "    </tr>\n",
       "    <tr>\n",
       "      <td>2020-06-30 23:55:00</td>\n",
       "      <td>417.6</td>\n",
       "    </tr>\n",
       "  </tbody>\n",
       "</table>\n",
       "<p>1728 rows × 1 columns</p>\n",
       "</div>"
      ],
      "text/plain": [
       "                     value\n",
       "time                      \n",
       "2020-06-25 00:00:00  417.6\n",
       "2020-06-25 00:05:00  424.8\n",
       "2020-06-25 00:10:00  432.0\n",
       "2020-06-25 00:15:00  417.6\n",
       "2020-06-25 00:20:00  417.6\n",
       "...                    ...\n",
       "2020-06-30 23:35:00  417.6\n",
       "2020-06-30 23:40:00  424.8\n",
       "2020-06-30 23:45:00  417.6\n",
       "2020-06-30 23:50:00  424.8\n",
       "2020-06-30 23:55:00  417.6\n",
       "\n",
       "[1728 rows x 1 columns]"
      ]
     },
     "execution_count": 7,
     "metadata": {},
     "output_type": "execute_result"
    }
   ],
   "source": [
    "df[start:end]"
   ]
  },
  {
   "cell_type": "code",
   "execution_count": 5,
   "metadata": {},
   "outputs": [],
   "source": [
    "new = df[start:end].resample('H', label = 'right', closed = 'right').mean()"
   ]
  },
  {
   "cell_type": "code",
   "execution_count": 6,
   "metadata": {},
   "outputs": [
    {
     "data": {
      "text/plain": [
       "time  time\n",
       "2019  8       48658.110390\n",
       "      9       86896.812121\n",
       "Name: value, dtype: float64"
      ]
     },
     "execution_count": 6,
     "metadata": {},
     "output_type": "execute_result"
    }
   ],
   "source": [
    "new.groupby([new.index.year, new.index.month]).sum()['value']"
   ]
  },
  {
   "cell_type": "code",
   "execution_count": 14,
   "metadata": {},
   "outputs": [
    {
     "ename": "IndentationError",
     "evalue": "unexpected indent (<ipython-input-14-68111f45cc7c>, line 3)",
     "output_type": "error",
     "traceback": [
      "\u001b[1;36m  File \u001b[1;32m\"<ipython-input-14-68111f45cc7c>\"\u001b[1;36m, line \u001b[1;32m3\u001b[0m\n\u001b[1;33m    6357576.0\u001b[0m\n\u001b[1;37m    ^\u001b[0m\n\u001b[1;31mIndentationError\u001b[0m\u001b[1;31m:\u001b[0m unexpected indent\n"
     ]
    }
   ],
   "source": [
    "3176028.0\n",
    "3564648.0\n",
    " 6357576.0"
   ]
  },
  {
   "cell_type": "code",
   "execution_count": null,
   "metadata": {},
   "outputs": [],
   "source": [
    "2019  8       48658.110390\n",
    "      9       86896.812121"
   ]
  }
 ],
 "metadata": {
  "kernelspec": {
   "display_name": "Python 3",
   "language": "python",
   "name": "python3"
  },
  "language_info": {
   "codemirror_mode": {
    "name": "ipython",
    "version": 3
   },
   "file_extension": ".py",
   "mimetype": "text/x-python",
   "name": "python",
   "nbconvert_exporter": "python",
   "pygments_lexer": "ipython3",
   "version": "3.7.4"
  }
 },
 "nbformat": 4,
 "nbformat_minor": 2
}
